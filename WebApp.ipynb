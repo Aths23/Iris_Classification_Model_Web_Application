{
 "cells": [
  {
   "cell_type": "code",
   "execution_count": 6,
   "metadata": {},
   "outputs": [],
   "source": [
    "import streamlit as st\n",
    "import pickle"
   ]
  },
  {
   "cell_type": "code",
   "execution_count": 10,
   "metadata": {},
   "outputs": [],
   "source": [
    "lin_model=pickle.load(open('LinearRegression.pkl','rb'))\n",
    "log_model=pickle.load(open('LogisticRegression.pkl','rb'))\n",
    "svm=pickle.load(open('SupportVectorMachinesClassifier.pkl','rb'))"
   ]
  },
  {
   "cell_type": "code",
   "execution_count": 12,
   "metadata": {},
   "outputs": [],
   "source": [
    "def classify():\n",
    "    \n",
    "    if num < 0.5 :\n",
    "        return 'Setosa'\n",
    "    elif num < 1.5:\n",
    "        return 'Versicolor'\n",
    "    else:\n",
    "        return 'Virginica'    "
   ]
  },
  {
   "cell_type": "code",
   "execution_count": 15,
   "metadata": {},
   "outputs": [],
   "source": [
    "def main():\n",
    "    \n",
    "    st.title('Streamlit Tutorial')\n",
    "    html = \"\"\"\n",
    "    <div style=\"background-color:teal; padding:10px\">\n",
    "    <h2 style=\"color:white;text-align:center;\">Iris CLassification</h2>\n",
    "    </div>\n",
    "    \"\"\"\n",
    "    st.markdown(html, unsafe_allow_html = True)\n",
    "    activities = ['Linear Regression', 'Logistic Regression', 'SVM']\n",
    "    option = st.sidebar.selectbox('Which Model You Want To Use ?', activities)\n",
    "    st.subheader(option)\n",
    "    sl = st.slider(\"Select Sepal Length \", 0.0, 10.0)\n",
    "    sw = st.slider(\"Select Sepal Width \", 0.0, 10.0)\n",
    "    pl = st.slider(\"Select Petal Length  \", 0.0, 10.0)\n",
    "    pw = st.slider(\"Select Petal Width \", 0.0, 10.0)\n",
    "    inputs = [[sl, sw, pl, pw]]\n",
    "    if st.button('Classify'):\n",
    "        if option ==\"Linear Regression\":\n",
    "            st.success(classify(lin_model.predict(inputs)))\n",
    "        elif option ==\"Logistic Regression\":\n",
    "            st.success(classify(lin_model.predict(inputs)))\n",
    "        else:\n",
    "            st.success(classify(lin_model.predict(inputs)))"
   ]
  },
  {
   "cell_type": "code",
   "execution_count": 16,
   "metadata": {},
   "outputs": [],
   "source": [
    "if __name__==\"__main__\":\n",
    "    main()"
   ]
  },
  {
   "cell_type": "code",
   "execution_count": null,
   "metadata": {},
   "outputs": [],
   "source": []
  }
 ],
 "metadata": {
  "kernelspec": {
   "display_name": "Python 3",
   "language": "python",
   "name": "python3"
  },
  "language_info": {
   "codemirror_mode": {
    "name": "ipython",
    "version": 3
   },
   "file_extension": ".py",
   "mimetype": "text/x-python",
   "name": "python",
   "nbconvert_exporter": "python",
   "pygments_lexer": "ipython3",
   "version": "3.8.5"
  }
 },
 "nbformat": 4,
 "nbformat_minor": 4
}
